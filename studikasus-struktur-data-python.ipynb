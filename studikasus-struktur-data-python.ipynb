{
  "nbformat": 4,
  "nbformat_minor": 0,
  "metadata": {
    "colab": {
      "provenance": [],
      "authorship_tag": "ABX9TyM3ly2JZ8JVdDBsNutMPp4w",
      "include_colab_link": true
    },
    "kernelspec": {
      "name": "python3",
      "display_name": "Python 3"
    },
    "language_info": {
      "name": "python"
    }
  },
  "cells": [
    {
      "cell_type": "markdown",
      "metadata": {
        "id": "view-in-github",
        "colab_type": "text"
      },
      "source": [
        "<a href=\"https://colab.research.google.com/github/yomeihendra/cbt/blob/master/studikasus-struktur-data-python.ipynb\" target=\"_parent\"><img src=\"https://colab.research.google.com/assets/colab-badge.svg\" alt=\"Open In Colab\"/></a>"
      ]
    },
    {
      "cell_type": "code",
      "execution_count": 1,
      "metadata": {
        "colab": {
          "base_uri": "https://localhost:8080/"
        },
        "id": "PgKjDm-F9tCq",
        "outputId": "815710bf-c57d-4f09-bc0a-6592bdbb7f10"
      },
      "outputs": [
        {
          "output_type": "stream",
          "name": "stdout",
          "text": [
            "Berapa banyak teman yang ingin Anda tambahkan ke dalam list? 4\n",
            "Masukkan nama teman ke-1: yomei hendra\n",
            "Masukkan nama teman ke-2: defri ihsan\n",
            "Masukkan nama teman ke-3: dedeng hidayat\n",
            "Masukkan nama teman ke-4: hendz\n",
            "\n",
            "List nama teman:\n",
            "yomei hendra\n",
            "defri ihsan\n",
            "dedeng hidayat\n",
            "hendz\n",
            "\n",
            "Masukkan nama teman baru: fabio\n",
            "\n",
            "List nama teman setelah penambahan:\n",
            "yomei hendra\n",
            "defri ihsan\n",
            "dedeng hidayat\n",
            "hendz\n",
            "fabio\n",
            "\n",
            "Jumlah total teman: 5\n",
            "\n",
            "Teman dengan nama terpanjang: dedeng hidayat\n",
            "Teman dengan nama terpendek: hendz\n",
            "\n",
            "List nama teman setelah diurutkan secara alfabetis:\n",
            "dedeng hidayat\n",
            "defri ihsan\n",
            "fabio\n",
            "hendz\n",
            "yomei hendra\n"
          ]
        }
      ],
      "source": [
        "# Meminta pengguna untuk memasukkan beberapa nama teman ke dalam sebuah list\n",
        "friend_list = []\n",
        "num_friends = int(input(\"Berapa banyak teman yang ingin Anda tambahkan ke dalam list? \"))\n",
        "\n",
        "for i in range(num_friends):\n",
        "    friend_name = input(\"Masukkan nama teman ke-{}: \".format(i + 1))\n",
        "    friend_list.append(friend_name)\n",
        "\n",
        "# Menampilkan list nama teman tersebut\n",
        "print(\"\\nList nama teman:\")\n",
        "for friend in friend_list:\n",
        "    print(friend)\n",
        "\n",
        "# Meminta pengguna untuk memasukkan nama teman baru dan menambahkannya ke dalam list\n",
        "new_friend = input(\"\\nMasukkan nama teman baru: \")\n",
        "friend_list.append(new_friend)\n",
        "\n",
        "# Menampilkan list nama teman setelah penambahan\n",
        "print(\"\\nList nama teman setelah penambahan:\")\n",
        "for friend in friend_list:\n",
        "    print(friend)\n",
        "\n",
        "# Menampilkan jumlah total teman yang ada dalam list\n",
        "total_friends = len(friend_list)\n",
        "print(\"\\nJumlah total teman:\", total_friends)\n",
        "\n",
        "# Menampilkan teman yang memiliki nama terpanjang dan terpendek\n",
        "longest_friend = max(friend_list, key=len)\n",
        "shortest_friend = min(friend_list, key=len)\n",
        "print(\"\\nTeman dengan nama terpanjang:\", longest_friend)\n",
        "print(\"Teman dengan nama terpendek:\", shortest_friend)\n",
        "\n",
        "# Mengurutkan list nama teman secara alfabetis dan menampilkan hasilnya\n",
        "sorted_friends = sorted(friend_list)\n",
        "print(\"\\nList nama teman setelah diurutkan secara alfabetis:\")\n",
        "for friend in sorted_friends:\n",
        "    print(friend)\n"
      ]
    },
    {
      "cell_type": "code",
      "source": [
        "# Membuat tuple yang berisi informasi mengenai sebuah buku\n",
        "book1 = ('Python Programming', 'John Smith', 2020, 50.0)\n",
        "\n",
        "# Menampilkan informasi buku tersebut\n",
        "print(\"Informasi Buku 1:\")\n",
        "print(\"Judul:\", book1[0])\n",
        "print(\"Penulis:\", book1[1])\n",
        "print(\"Tahun Terbit:\", book1[2])\n",
        "print(\"Harga:\", book1[3])\n",
        "\n",
        "# Membuat tuple lain yang berisi informasi mengenai buku lainnya\n",
        "book2 = ('Data Science Handbook', 'Jane Doe', 2019, 45.0)\n",
        "\n",
        "# Menggabungkan kedua tuple tersebut menjadi sebuah list\n",
        "book_list = [book1, book2]\n",
        "\n",
        "# Menampilkan semua buku yang ada dalam list\n",
        "print(\"\\nDaftar Buku:\")\n",
        "for i, book in enumerate(book_list, start=1):\n",
        "    print(\"Buku\", i, \":\", book)\n",
        "\n",
        "# Menampilkan jumlah total buku yang ada dalam list\n",
        "total_books = len(book_list)\n",
        "print(\"\\nTotal Buku:\", total_books)\n",
        "\n",
        "# Membuat program yang meminta pengguna untuk memasukkan judul buku\n",
        "search_title = input(\"\\nMasukkan judul buku yang ingin Anda cari: \")\n",
        "\n",
        "# Mencari informasi lengkap mengenai buku yang dicari\n",
        "found_book = None\n",
        "for book in book_list:\n",
        "    if search_title.lower() == book[0].lower():\n",
        "        found_book = book\n",
        "        break\n",
        "\n",
        "# Menampilkan informasi lengkap mengenai buku yang dicari, jika ditemukan\n",
        "if found_book:\n",
        "    print(\"\\nInformasi Buku yang Dicari:\")\n",
        "    print(\"Judul:\", found_book[0])\n",
        "    print(\"Penulis:\", found_book[1])\n",
        "    print(\"Tahun Terbit:\", found_book[2])\n",
        "    print(\"Harga:\", found_book[3])\n",
        "else:\n",
        "    print(\"\\nBuku dengan judul '{}' tidak ditemukan dalam list.\".format(search_title))\n"
      ],
      "metadata": {
        "colab": {
          "base_uri": "https://localhost:8080/"
        },
        "id": "Q-BsRZ-HBTMq",
        "outputId": "0b3705bb-3c23-4a8d-c2ed-360c93dedd8d"
      },
      "execution_count": 3,
      "outputs": [
        {
          "output_type": "stream",
          "name": "stdout",
          "text": [
            "Informasi Buku 1:\n",
            "Judul: Python Programming\n",
            "Penulis: John Smith\n",
            "Tahun Terbit: 2020\n",
            "Harga: 50.0\n",
            "\n",
            "Daftar Buku:\n",
            "Buku 1 : ('Python Programming', 'John Smith', 2020, 50.0)\n",
            "Buku 2 : ('Data Science Handbook', 'Jane Doe', 2019, 45.0)\n",
            "\n",
            "Total Buku: 2\n",
            "\n",
            "Masukkan judul buku yang ingin Anda cari: python programming\n",
            "\n",
            "Informasi Buku yang Dicari:\n",
            "Judul: Python Programming\n",
            "Penulis: John Smith\n",
            "Tahun Terbit: 2020\n",
            "Harga: 50.0\n"
          ]
        }
      ]
    }
  ]
}